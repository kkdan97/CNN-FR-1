{
 "cells": [
  {
   "cell_type": "markdown",
   "metadata": {},
   "source": [
    "<h2> replace ***** with the name of the person you want to add </h2>"
   ]
  },
  {
   "cell_type": "code",
   "execution_count": 25,
   "metadata": {},
   "outputs": [],
   "source": [
    "! mkdir dataset\\*****"
   ]
  },
  {
   "cell_type": "markdown",
   "metadata": {},
   "source": [
    "<h2>Enter the same name when the input is asked</h2>"
   ]
  },
  {
   "cell_type": "code",
   "execution_count": 9,
   "metadata": {},
   "outputs": [
    {
     "name": "stdin",
     "output_type": "stream",
     "text": [
      "name of the person fine\n"
     ]
    },
    {
     "name": "stdout",
     "output_type": "stream",
     "text": [
      "fine\n",
      "[INFO] 10 face images stored\n"
     ]
    }
   ],
   "source": [
    "name = str(input('name of the person'))\n",
    "print(name)\n",
    "\n",
    "\n",
    "from imutils.video import VideoStream\n",
    "import imutils\n",
    "import time\n",
    "import cv2\n",
    "import os\n",
    "\n",
    "\n",
    "detector = cv2.CascadeClassifier(\"haarcascade_frontalface_default.xml\")\n",
    "font = cv2.FONT_HERSHEY_SIMPLEX\n",
    "\n",
    "video_capture = cv2.VideoCapture(0)\n",
    "\n",
    "time.sleep(2.0)\n",
    "total = 0\n",
    "\n",
    "while True:\n",
    "\n",
    "    ret,frame = video_capture.read()\n",
    "    orig = frame.copy()\n",
    "    frame = imutils.resize(frame, width=800)\n",
    "    # detect faces in gray then we use color\n",
    "    rects = detector.detectMultiScale(\n",
    "        cv2.cvtColor(frame, cv2.COLOR_BGR2GRAY), scaleFactor=1.1, \n",
    "        minNeighbors=5, minSize=(30, 30))\n",
    "\n",
    "    # draw rect on detected faces\n",
    "    for (x, y, w, h) in rects:\n",
    "        if w>100:\n",
    "            cv2.rectangle(frame, (x, y), (x + w, y + h), (0, 255, 0), 2)\n",
    "            cv2.putText(frame,'TAKE PIC',(600, 80), font, 0.75,(255,0,0),2)\n",
    "            \n",
    "            if key == ord(\"k\"):\n",
    "                p = os.path.sep.join([f'dataset/{name}/', f\"0000{total}.png\"])\n",
    "                cv2.imwrite(p, orig)\n",
    "                total += 1\n",
    "\n",
    "        \n",
    "    cv2.putText(frame,f'HELLO {name} press k to Save a photo and q to Quit',(50, 40), font, 0.75,(255,0,0),2)\n",
    "    cv2.putText(frame,f'{total} pics are taken',(50, 80), font, 0.75,(255,0,0),2)\n",
    "    cv2.putText(frame,'minimum 60 pics are needed for good accuracy',(50, 120), font, 0.75,(255,0,0),2)\n",
    "\n",
    "\n",
    "    cv2.imshow(f\"{name}\", frame)\n",
    "    key = cv2.waitKey(1) & 0xFF\n",
    "     \n",
    "\n",
    "    # press q to quit\n",
    "    if key == ord(\"q\"):\n",
    "        break\n",
    "        \n",
    "print(f\"[INFO] {total} face images stored\")\n",
    "cv2.destroyAllWindows()\n",
    "video_capture.release()\n"
   ]
  },
  {
   "cell_type": "markdown",
   "metadata": {},
   "source": [
    "#### IF camera is not closed automatically closed run below code otherwise Don't touch it"
   ]
  },
  {
   "cell_type": "code",
   "execution_count": 10,
   "metadata": {},
   "outputs": [],
   "source": [
    "# video_capture.release()"
   ]
  },
  {
   "cell_type": "code",
   "execution_count": null,
   "metadata": {},
   "outputs": [],
   "source": []
  }
 ],
 "metadata": {
  "kernelspec": {
   "display_name": "Python 3",
   "language": "python",
   "name": "python3"
  },
  "language_info": {
   "codemirror_mode": {
    "name": "ipython",
    "version": 3
   },
   "file_extension": ".py",
   "mimetype": "text/x-python",
   "name": "python",
   "nbconvert_exporter": "python",
   "pygments_lexer": "ipython3",
   "version": "3.7.3"
  }
 },
 "nbformat": 4,
 "nbformat_minor": 2
}
