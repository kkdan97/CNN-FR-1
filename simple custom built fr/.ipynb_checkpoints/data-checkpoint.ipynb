{
 "cells": [
  {
   "cell_type": "markdown",
   "metadata": {},
   "source": [
    "<h2> replace ***** with the name of the person you want to add </h2>"
   ]
  },
  {
   "cell_type": "code",
   "execution_count": 25,
   "metadata": {},
   "outputs": [],
   "source": [
    "! mkdir dataset\\*****"
   ]
  },
  {
   "cell_type": "markdown",
   "metadata": {},
   "source": [
    "<h2>Enter the same name when the input is asked</h2>"
   ]
  },
  {
   "cell_type": "code",
   "execution_count": 1,
   "metadata": {},
   "outputs": [
    {
     "name": "stdin",
     "output_type": "stream",
     "text": [
      "name of the person fine\n"
     ]
    },
    {
     "name": "stdout",
     "output_type": "stream",
     "text": [
      "fine\n"
     ]
    },
    {
     "ename": "AttributeError",
     "evalue": "'NoneType' object has no attribute 'copy'",
     "output_type": "error",
     "traceback": [
      "\u001b[1;31m---------------------------------------------------------------------------\u001b[0m",
      "\u001b[1;31mAttributeError\u001b[0m                            Traceback (most recent call last)",
      "\u001b[1;32m<ipython-input-1-6d3811d779ea>\u001b[0m in \u001b[0;36m<module>\u001b[1;34m\u001b[0m\n\u001b[0;32m     21\u001b[0m \u001b[1;33m\u001b[0m\u001b[0m\n\u001b[0;32m     22\u001b[0m     \u001b[0mframe\u001b[0m \u001b[1;33m=\u001b[0m \u001b[0mvs\u001b[0m\u001b[1;33m.\u001b[0m\u001b[0mread\u001b[0m\u001b[1;33m(\u001b[0m\u001b[1;33m)\u001b[0m\u001b[1;33m\u001b[0m\u001b[1;33m\u001b[0m\u001b[0m\n\u001b[1;32m---> 23\u001b[1;33m     \u001b[0morig\u001b[0m \u001b[1;33m=\u001b[0m \u001b[0mframe\u001b[0m\u001b[1;33m.\u001b[0m\u001b[0mcopy\u001b[0m\u001b[1;33m(\u001b[0m\u001b[1;33m)\u001b[0m\u001b[1;33m\u001b[0m\u001b[1;33m\u001b[0m\u001b[0m\n\u001b[0m\u001b[0;32m     24\u001b[0m     \u001b[0mframe\u001b[0m \u001b[1;33m=\u001b[0m \u001b[0mimutils\u001b[0m\u001b[1;33m.\u001b[0m\u001b[0mresize\u001b[0m\u001b[1;33m(\u001b[0m\u001b[0mframe\u001b[0m\u001b[1;33m,\u001b[0m \u001b[0mwidth\u001b[0m\u001b[1;33m=\u001b[0m\u001b[1;36m800\u001b[0m\u001b[1;33m)\u001b[0m\u001b[1;33m\u001b[0m\u001b[1;33m\u001b[0m\u001b[0m\n\u001b[0;32m     25\u001b[0m     \u001b[1;31m# detect faces in gray then we use color\u001b[0m\u001b[1;33m\u001b[0m\u001b[1;33m\u001b[0m\u001b[1;33m\u001b[0m\u001b[0m\n",
      "\u001b[1;31mAttributeError\u001b[0m: 'NoneType' object has no attribute 'copy'"
     ]
    }
   ],
   "source": [
    "name = str(input('name of the person'))\n",
    "print(name)\n",
    "\n",
    "\n",
    "from imutils.video import VideoStream\n",
    "import imutils\n",
    "import time\n",
    "import cv2\n",
    "import os\n",
    "\n",
    "\n",
    "detector = cv2.CascadeClassifier(\"haarcascade_frontalface_default.xml\")\n",
    "font = cv2.FONT_HERSHEY_SIMPLEX\n",
    "\n",
    "video_capture = cv2.VideoCapture(0)\n",
    "\n",
    "time.sleep(2.0)\n",
    "total = 0\n",
    "\n",
    "while True:\n",
    "\n",
    "    frame = video_capture.read()\n",
    "    orig = frame.copy()\n",
    "    frame = imutils.resize(frame, width=800)\n",
    "    # detect faces in gray then we use color\n",
    "    rects = detector.detectMultiScale(\n",
    "        cv2.cvtColor(frame, cv2.COLOR_BGR2GRAY), scaleFactor=1.1, \n",
    "        minNeighbors=5, minSize=(30, 30))\n",
    "\n",
    "    # draw rect on detected faces\n",
    "    for (x, y, w, h) in rects:\n",
    "        cv2.rectangle(frame, (x, y), (x + w, y + h), (0, 255, 0), 2)    \n",
    "    \n",
    "    cv2.putText(frame,f'HELLO {name} press k to Save a photo and q to Quit',(50, 40), font, 0.75,(255,0,0),2)\n",
    "    cv2.putText(frame,f'{total} pics are taken',(50, 80), font, 0.75,(255,0,0),2)\n",
    "    cv2.putText(frame,'minimum 60 pics are needed for good accuracy',(50, 120), font, 0.75,(255,0,0),2)\n",
    "\n",
    "\n",
    "    cv2.imshow(f\"{name}\", frame)\n",
    "    key = cv2.waitKey(1) & 0xFF\n",
    "    \n",
    "    # press key to save the pic \n",
    "    if key == ord(\"k\"):\n",
    "        p = os.path.sep.join([f'dataset/{name}/', f\"0000{total}.png\"])\n",
    "        cv2.imwrite(p, orig)\n",
    "        total += 1\n",
    "\n",
    "    # press q to quit\n",
    "    elif key == ord(\"q\"):\n",
    "        break\n",
    "        \n",
    "print(f\"[INFO] {total} face images stored\")\n",
    "cv2.destroyAllWindows()\n",
    "video_capture.release()\n"
   ]
  },
  {
   "cell_type": "code",
   "execution_count": null,
   "metadata": {},
   "outputs": [],
   "source": []
  }
 ],
 "metadata": {
  "kernelspec": {
   "display_name": "Python 3",
   "language": "python",
   "name": "python3"
  },
  "language_info": {
   "codemirror_mode": {
    "name": "ipython",
    "version": 3
   },
   "file_extension": ".py",
   "mimetype": "text/x-python",
   "name": "python",
   "nbconvert_exporter": "python",
   "pygments_lexer": "ipython3",
   "version": "3.7.3"
  }
 },
 "nbformat": 4,
 "nbformat_minor": 2
}
