{
 "cells": [
  {
   "cell_type": "code",
   "execution_count": 1,
   "metadata": {},
   "outputs": [],
   "source": [
    "from imutils import paths\n",
    "import numpy as np\n",
    "import cv2\n",
    "import imutils\n",
    "import os\n",
    "import matplotlib.pyplot as plt\n",
    "import re"
   ]
  },
  {
   "cell_type": "code",
   "execution_count": 2,
   "metadata": {},
   "outputs": [],
   "source": [
    "image_paths = list(paths.list_images('dataset/'))"
   ]
  },
  {
   "cell_type": "code",
   "execution_count": 4,
   "metadata": {},
   "outputs": [],
   "source": [
    "face_cascade = cv2.CascadeClassifier(\"haarcascade_frontalface_default.xml\")"
   ]
  },
  {
   "cell_type": "code",
   "execution_count": 11,
   "metadata": {},
   "outputs": [
    {
     "name": "stdout",
     "output_type": "stream",
     "text": [
      "dani 0\n",
      "dani 1\n",
      "dani 2\n",
      "dani 3\n",
      "dani 4\n",
      "dani 5\n",
      "dani 6\n",
      "dani 7\n",
      "dani 8\n",
      "dani 9\n",
      "dani 10\n",
      "dani 11\n",
      "dani 12\n",
      "dani 13\n",
      "dani 14\n",
      "dani 15\n",
      "dani 16\n",
      "dani 17\n",
      "dani 18\n",
      "dani 19\n",
      "dani 20\n",
      "dani 21\n",
      "dani 22\n",
      "dani 23\n",
      "dani 24\n",
      "dani 25\n",
      "dani 26\n",
      "dani 27\n",
      "dani 28\n",
      "dani 29\n",
      "dani 30\n",
      "dani 31\n",
      "dani 32\n",
      "dani 33\n",
      "dani 34\n",
      "dani 35\n",
      "dani 36\n",
      "dani 37\n",
      "dani 38\n",
      "dani 39\n",
      "dani 40\n",
      "dani 41\n",
      "dani 42\n",
      "dani 43\n",
      "dani 44\n",
      "dani 45\n",
      "dani 46\n",
      "dani 47\n",
      "dani 48\n",
      "dani 49\n",
      "dani 50\n",
      "dani 51\n",
      "dani 52\n",
      "dani 53\n",
      "dani 54\n",
      "dani 55\n",
      "unknown 56\n",
      "unknown 57\n",
      "unknown 58\n",
      "unknown 59\n",
      "unknown 60\n",
      "unknown 61\n",
      "unknown 62\n",
      "unknown 63\n",
      "unknown 64\n",
      "unknown 65\n",
      "unknown 66\n",
      "unknown 67\n",
      "unknown 68\n",
      "unknown 69\n",
      "unknown 70\n",
      "unknown 71\n",
      "unknown 72\n",
      "unknown 73\n",
      "unknown 74\n",
      "unknown 75\n",
      "unknown 76\n",
      "unknown 77\n",
      "unknown 78\n",
      "unknown 79\n",
      "unknown 80\n",
      "unknown 81\n",
      "unknown 82\n",
      "unknown 83\n",
      "unknown 84\n",
      "unknown 85\n",
      "unknown 86\n",
      "unknown 87\n",
      "unknown 88\n",
      "unknown 89\n",
      "unknown 90\n",
      "unknown 91\n",
      "unknown 92\n",
      "unknown 93\n",
      "unknown 94\n",
      "unknown 95\n",
      "unknown 96\n",
      "unknown 97\n",
      "unknown 98\n",
      "unknown 99\n",
      "unknown 100\n",
      "unknown 101\n",
      "unknown 102\n",
      "unknown 103\n",
      "unknown 104\n",
      "vinodh 105\n",
      "vinodh 106\n",
      "vinodh 107\n",
      "vinodh 108\n",
      "vinodh 109\n",
      "vinodh 110\n",
      "vinodh 111\n",
      "vinodh 112\n",
      "vinodh 113\n",
      "vinodh 114\n",
      "vinodh 115\n",
      "vinodh 116\n",
      "vinodh 117\n",
      "vinodh 118\n",
      "vinodh 119\n",
      "vinodh 120\n",
      "vinodh 121\n",
      "vinodh 122\n",
      "vinodh 123\n",
      "vinodh 124\n",
      "vinodh 125\n",
      "vinodh 126\n",
      "vinodh 127\n",
      "vinodh 128\n"
     ]
    }
   ],
   "source": [
    "name_list = []\n",
    "for (i, image_path) in enumerate(image_paths):\n",
    "    name = image_path.split(os.path.sep)[-2]\n",
    "    name = re.split(\"[/]\", name)[-1]\n",
    "    name_list.append(name)\n",
    "    print(name,i)\n",
    "    img = cv2.imread(image_path)\n",
    "    gray = cv2.cvtColor(img, cv2.COLOR_BGR2GRAY)\n",
    "\n",
    "    faces = face_cascade.detectMultiScale(gray, scaleFactor=1.1, minNeighbors=5, flags= cv2.CASCADE_SCALE_IMAGE)\n",
    "    for (x,y,w,h) in faces:\n",
    "        if w > 120 :\n",
    "            cv2.rectangle(img,(x,y),(x+w,y+h),(255,0,0),2)\n",
    "            roi_gray = gray[y:y+h, x:x+w]\n",
    "            roi_color = img[y:y+h, x:x+w]\n",
    "            cv2.imwrite(f'train/{name}_{i}.jpg', roi_color)\n",
    "        i+=1"
   ]
  },
  {
   "cell_type": "code",
   "execution_count": 14,
   "metadata": {},
   "outputs": [
    {
     "data": {
      "text/plain": [
       "['dani', 'unknown', 'vinodh']"
      ]
     },
     "execution_count": 14,
     "metadata": {},
     "output_type": "execute_result"
    }
   ],
   "source": [
    "name_list = set(name_list)\n",
    "name_list = list(name_list)\n",
    "name_list.sort()\n",
    "name_list"
   ]
  },
  {
   "cell_type": "code",
   "execution_count": 15,
   "metadata": {},
   "outputs": [],
   "source": [
    "import pandas as pd\n",
    "import numpy as np\n",
    "import matplotlib.pyplot as plt\n",
    "from sklearn.model_selection import train_test_split\n",
    "from keras.preprocessing.image import ImageDataGenerator, load_img\n",
    "from keras.models import Sequential\n",
    "from keras.layers import Conv2D,Dense,Flatten,MaxPool2D,Dropout,BatchNormalization\n",
    "import os\n",
    "import seaborn as sns\n",
    "import PIL"
   ]
  },
  {
   "cell_type": "code",
   "execution_count": 50,
   "metadata": {},
   "outputs": [
    {
     "data": {
      "text/plain": [
       "106"
      ]
     },
     "execution_count": 50,
     "metadata": {},
     "output_type": "execute_result"
    }
   ],
   "source": [
    "train_dir_list = os.listdir('train')\n",
    "len(train_dir_list)"
   ]
  },
  {
   "cell_type": "code",
   "execution_count": 51,
   "metadata": {},
   "outputs": [],
   "source": [
    "dict_d = {'filename': [], 'label': []}\n",
    "for i in train_dir_list:\n",
    "    j = re.split('[_.]', i)[0]\n",
    "#     print(j)\n",
    "    dict_d['filename'].append(i)\n",
    "    dict_d['label'].append(j)\n",
    "train_df = pd.DataFrame(dict_d)"
   ]
  },
  {
   "cell_type": "code",
   "execution_count": 52,
   "metadata": {},
   "outputs": [
    {
     "data": {
      "text/html": [
       "<div>\n",
       "<style scoped>\n",
       "    .dataframe tbody tr th:only-of-type {\n",
       "        vertical-align: middle;\n",
       "    }\n",
       "\n",
       "    .dataframe tbody tr th {\n",
       "        vertical-align: top;\n",
       "    }\n",
       "\n",
       "    .dataframe thead th {\n",
       "        text-align: right;\n",
       "    }\n",
       "</style>\n",
       "<table border=\"1\" class=\"dataframe\">\n",
       "  <thead>\n",
       "    <tr style=\"text-align: right;\">\n",
       "      <th></th>\n",
       "      <th>filename</th>\n",
       "      <th>label</th>\n",
       "    </tr>\n",
       "  </thead>\n",
       "  <tbody>\n",
       "    <tr>\n",
       "      <th>0</th>\n",
       "      <td>dani_0.jpg</td>\n",
       "      <td>dani</td>\n",
       "    </tr>\n",
       "    <tr>\n",
       "      <th>1</th>\n",
       "      <td>dani_1.jpg</td>\n",
       "      <td>dani</td>\n",
       "    </tr>\n",
       "    <tr>\n",
       "      <th>2</th>\n",
       "      <td>dani_10.jpg</td>\n",
       "      <td>dani</td>\n",
       "    </tr>\n",
       "    <tr>\n",
       "      <th>3</th>\n",
       "      <td>dani_11.jpg</td>\n",
       "      <td>dani</td>\n",
       "    </tr>\n",
       "    <tr>\n",
       "      <th>4</th>\n",
       "      <td>dani_12.jpg</td>\n",
       "      <td>dani</td>\n",
       "    </tr>\n",
       "  </tbody>\n",
       "</table>\n",
       "</div>"
      ],
      "text/plain": [
       "      filename label\n",
       "0   dani_0.jpg  dani\n",
       "1   dani_1.jpg  dani\n",
       "2  dani_10.jpg  dani\n",
       "3  dani_11.jpg  dani\n",
       "4  dani_12.jpg  dani"
      ]
     },
     "execution_count": 52,
     "metadata": {},
     "output_type": "execute_result"
    }
   ],
   "source": [
    "train_df.head()"
   ]
  },
  {
   "cell_type": "code",
   "execution_count": 53,
   "metadata": {},
   "outputs": [
    {
     "data": {
      "text/html": [
       "<div>\n",
       "<style scoped>\n",
       "    .dataframe tbody tr th:only-of-type {\n",
       "        vertical-align: middle;\n",
       "    }\n",
       "\n",
       "    .dataframe tbody tr th {\n",
       "        vertical-align: top;\n",
       "    }\n",
       "\n",
       "    .dataframe thead th {\n",
       "        text-align: right;\n",
       "    }\n",
       "</style>\n",
       "<table border=\"1\" class=\"dataframe\">\n",
       "  <thead>\n",
       "    <tr style=\"text-align: right;\">\n",
       "      <th></th>\n",
       "      <th>filename</th>\n",
       "      <th>label</th>\n",
       "    </tr>\n",
       "  </thead>\n",
       "  <tbody>\n",
       "    <tr>\n",
       "      <th>101</th>\n",
       "      <td>vinodh_124.jpg</td>\n",
       "      <td>vinodh</td>\n",
       "    </tr>\n",
       "    <tr>\n",
       "      <th>102</th>\n",
       "      <td>vinodh_125.jpg</td>\n",
       "      <td>vinodh</td>\n",
       "    </tr>\n",
       "    <tr>\n",
       "      <th>103</th>\n",
       "      <td>vinodh_126.jpg</td>\n",
       "      <td>vinodh</td>\n",
       "    </tr>\n",
       "    <tr>\n",
       "      <th>104</th>\n",
       "      <td>vinodh_127.jpg</td>\n",
       "      <td>vinodh</td>\n",
       "    </tr>\n",
       "    <tr>\n",
       "      <th>105</th>\n",
       "      <td>vinodh_128.jpg</td>\n",
       "      <td>vinodh</td>\n",
       "    </tr>\n",
       "  </tbody>\n",
       "</table>\n",
       "</div>"
      ],
      "text/plain": [
       "           filename   label\n",
       "101  vinodh_124.jpg  vinodh\n",
       "102  vinodh_125.jpg  vinodh\n",
       "103  vinodh_126.jpg  vinodh\n",
       "104  vinodh_127.jpg  vinodh\n",
       "105  vinodh_128.jpg  vinodh"
      ]
     },
     "execution_count": 53,
     "metadata": {},
     "output_type": "execute_result"
    }
   ],
   "source": [
    "train_df.tail()"
   ]
  },
  {
   "cell_type": "code",
   "execution_count": 58,
   "metadata": {},
   "outputs": [],
   "source": [
    "train_data, valid_data = train_test_split(train_df, test_size=0.1, random_state=10)"
   ]
  },
  {
   "cell_type": "code",
   "execution_count": 59,
   "metadata": {},
   "outputs": [],
   "source": [
    "train_data.reset_index(drop=True, inplace=True)\n",
    "valid_data.reset_index(drop=True, inplace=True)"
   ]
  },
  {
   "cell_type": "code",
   "execution_count": 60,
   "metadata": {},
   "outputs": [
    {
     "data": {
      "text/plain": [
       "(95, 2)"
      ]
     },
     "execution_count": 60,
     "metadata": {},
     "output_type": "execute_result"
    }
   ],
   "source": [
    "train_data.shape"
   ]
  },
  {
   "cell_type": "markdown",
   "metadata": {},
   "source": [
    "### the train_step value should always be integer when total size is divide with batch size so adjust either datasize or split ratio"
   ]
  },
  {
   "cell_type": "code",
   "execution_count": 61,
   "metadata": {},
   "outputs": [
    {
     "data": {
      "text/plain": [
       "19"
      ]
     },
     "execution_count": 61,
     "metadata": {},
     "output_type": "execute_result"
    }
   ],
   "source": [
    "train_steps = 95//5\n",
    "train_steps"
   ]
  },
  {
   "cell_type": "code",
   "execution_count": 62,
   "metadata": {},
   "outputs": [
    {
     "data": {
      "text/plain": [
       "(11, 2)"
      ]
     },
     "execution_count": 62,
     "metadata": {},
     "output_type": "execute_result"
    }
   ],
   "source": [
    "valid_data.shape"
   ]
  },
  {
   "cell_type": "code",
   "execution_count": 63,
   "metadata": {},
   "outputs": [
    {
     "data": {
      "text/plain": [
       "2"
      ]
     },
     "execution_count": 63,
     "metadata": {},
     "output_type": "execute_result"
    }
   ],
   "source": [
    "valid_steps = 11//5\n",
    "valid_steps"
   ]
  },
  {
   "cell_type": "code",
   "execution_count": 64,
   "metadata": {},
   "outputs": [],
   "source": [
    "train_datagen = ImageDataGenerator(rotation_range=15, rescale=1./255, shear_range=0.1, \n",
    "                             zoom_range=0.2, horizontal_flip=True, width_shift_range=0.1, height_shift_range=0.1)\n",
    "valid_datagen = ImageDataGenerator(rescale=1/255)"
   ]
  },
  {
   "cell_type": "code",
   "execution_count": 65,
   "metadata": {},
   "outputs": [
    {
     "name": "stdout",
     "output_type": "stream",
     "text": [
      "Found 95 validated image filenames belonging to 3 classes.\n"
     ]
    }
   ],
   "source": [
    "train_generator = train_datagen.flow_from_dataframe(train_data, 'train/', x_col='filename', y_col='label',\n",
    "                                                   target_size=(128, 128), class_mode='categorical',\n",
    "                                                   batch_size=5)"
   ]
  },
  {
   "cell_type": "code",
   "execution_count": 66,
   "metadata": {},
   "outputs": [
    {
     "name": "stdout",
     "output_type": "stream",
     "text": [
      "Found 11 validated image filenames belonging to 3 classes.\n"
     ]
    }
   ],
   "source": [
    "valid_generator = valid_datagen.flow_from_dataframe(valid_data, 'train/', x_col='filename', y_col='label',\n",
    "                                                   target_size=(128, 128), class_mode='categorical',\n",
    "                                                   batch_size=5)"
   ]
  },
  {
   "cell_type": "code",
   "execution_count": 67,
   "metadata": {},
   "outputs": [],
   "source": [
    "model1 = Sequential([\n",
    "    Conv2D(32, (3,3), input_shape=(128, 128, 3), activation='relu'),\n",
    "    BatchNormalization(),\n",
    "    MaxPool2D(pool_size=(2,2)),\n",
    "    Dropout(0.25),\n",
    "    \n",
    "    Conv2D(64, (3,3), activation='relu'),\n",
    "    BatchNormalization(),\n",
    "    MaxPool2D(pool_size=(2,2)),\n",
    "    Dropout(0.25),\n",
    "    \n",
    "    Conv2D(128, (3,3), activation='relu'),\n",
    "    BatchNormalization(),\n",
    "    MaxPool2D(pool_size=(2,2)),\n",
    "    Dropout(0.25),\n",
    "    \n",
    "    Flatten(),\n",
    "    Dense(512, activation='relu'),\n",
    "    BatchNormalization(),\n",
    "    Dropout(0.5),\n",
    "    Dense(len(nam), activation='softmax')\n",
    "])"
   ]
  },
  {
   "cell_type": "code",
   "execution_count": 68,
   "metadata": {},
   "outputs": [
    {
     "name": "stdout",
     "output_type": "stream",
     "text": [
      "_________________________________________________________________\n",
      "Layer (type)                 Output Shape              Param #   \n",
      "=================================================================\n",
      "conv2d_7 (Conv2D)            (None, 126, 126, 32)      896       \n",
      "_________________________________________________________________\n",
      "batch_normalization_9 (Batch (None, 126, 126, 32)      128       \n",
      "_________________________________________________________________\n",
      "max_pooling2d_7 (MaxPooling2 (None, 63, 63, 32)        0         \n",
      "_________________________________________________________________\n",
      "dropout_9 (Dropout)          (None, 63, 63, 32)        0         \n",
      "_________________________________________________________________\n",
      "conv2d_8 (Conv2D)            (None, 61, 61, 64)        18496     \n",
      "_________________________________________________________________\n",
      "batch_normalization_10 (Batc (None, 61, 61, 64)        256       \n",
      "_________________________________________________________________\n",
      "max_pooling2d_8 (MaxPooling2 (None, 30, 30, 64)        0         \n",
      "_________________________________________________________________\n",
      "dropout_10 (Dropout)         (None, 30, 30, 64)        0         \n",
      "_________________________________________________________________\n",
      "conv2d_9 (Conv2D)            (None, 28, 28, 128)       73856     \n",
      "_________________________________________________________________\n",
      "batch_normalization_11 (Batc (None, 28, 28, 128)       512       \n",
      "_________________________________________________________________\n",
      "max_pooling2d_9 (MaxPooling2 (None, 14, 14, 128)       0         \n",
      "_________________________________________________________________\n",
      "dropout_11 (Dropout)         (None, 14, 14, 128)       0         \n",
      "_________________________________________________________________\n",
      "flatten_3 (Flatten)          (None, 25088)             0         \n",
      "_________________________________________________________________\n",
      "dense_5 (Dense)              (None, 512)               12845568  \n",
      "_________________________________________________________________\n",
      "batch_normalization_12 (Batc (None, 512)               2048      \n",
      "_________________________________________________________________\n",
      "dropout_12 (Dropout)         (None, 512)               0         \n",
      "_________________________________________________________________\n",
      "dense_6 (Dense)              (None, 3)                 1539      \n",
      "=================================================================\n",
      "Total params: 12,943,299\n",
      "Trainable params: 12,941,827\n",
      "Non-trainable params: 1,472\n",
      "_________________________________________________________________\n"
     ]
    }
   ],
   "source": [
    "model1.summary()"
   ]
  },
  {
   "cell_type": "code",
   "execution_count": 69,
   "metadata": {},
   "outputs": [],
   "source": [
    "model1.compile(loss='categorical_crossentropy', optimizer='rmsprop', metrics=['accuracy'])"
   ]
  },
  {
   "cell_type": "code",
   "execution_count": 72,
   "metadata": {},
   "outputs": [],
   "source": [
    "dummy_x, dummy_y = train_generator.next()"
   ]
  },
  {
   "cell_type": "code",
   "execution_count": 73,
   "metadata": {},
   "outputs": [
    {
     "data": {
      "text/plain": [
       "Text(0.5, 1.0, '[1. 0. 0.]')"
      ]
     },
     "execution_count": 73,
     "metadata": {},
     "output_type": "execute_result"
    },
    {
     "data": {
      "image/png": "[encoded data removed]",
      "text/plain": [
       "<Figure size 432x288 with 1 Axes>"
      ]
     },
     "metadata": {
      "needs_background": "light"
     },
     "output_type": "display_data"
    }
   ],
   "source": [
    "plt.imshow(dummy_x[0])\n",
    "plt.title(dummy_y[0])"
   ]
  },
  {
   "cell_type": "code",
   "execution_count": 76,
   "metadata": {},
   "outputs": [
    {
     "data": {
      "text/plain": [
       "Text(0.5, 1.0, '[0. 1. 0.]')"
      ]
     },
     "execution_count": 76,
     "metadata": {},
     "output_type": "execute_result"
    },
    {
     "data": {
      "image/png": "[encoded data removed]",
      "text/plain": [
       "<Figure size 432x288 with 1 Axes>"
      ]
     },
     "metadata": {
      "needs_background": "light"
     },
     "output_type": "display_data"
    }
   ],
   "source": [
    "plt.imshow(dummy_x[1])\n",
    "plt.title(dummy_y[1])"
   ]
  },
  {
   "cell_type": "code",
   "execution_count": 79,
   "metadata": {},
   "outputs": [
    {
     "data": {
      "text/plain": [
       "Text(0.5, 1.0, '[1. 0. 0.]')"
      ]
     },
     "execution_count": 79,
     "metadata": {},
     "output_type": "execute_result"
    },
    {
     "data": {
      "image/png": "[encoded data removed]",
      "text/plain": [
       "<Figure size 432x288 with 1 Axes>"
      ]
     },
     "metadata": {
      "needs_background": "light"
     },
     "output_type": "display_data"
    }
   ],
   "source": [
    "plt.imshow(dummy_x[4])\n",
    "plt.title(dummy_y[4])"
   ]
  },
  {
   "cell_type": "code",
   "execution_count": 95,
   "metadata": {},
   "outputs": [
    {
     "name": "stdout",
     "output_type": "stream",
     "text": [
      "Epoch 1/15\n",
      "19/19 [==============================] - 7s 386ms/step - loss: 0.1229 - acc: 0.9579 - val_loss: 0.0051 - val_acc: 1.0000\n",
      "Epoch 2/15\n",
      "19/19 [==============================] - 7s 367ms/step - loss: 0.3307 - acc: 0.9158 - val_loss: 1.9634e-04 - val_acc: 1.0000\n",
      "Epoch 3/15\n",
      "19/19 [==============================] - 7s 375ms/step - loss: 0.3286 - acc: 0.9053 - val_loss: 0.0092 - val_acc: 1.0000\n",
      "Epoch 4/15\n",
      "19/19 [==============================] - 7s 372ms/step - loss: 0.1815 - acc: 0.9474 - val_loss: 0.1230 - val_acc: 0.9155\n",
      "Epoch 5/15\n",
      "19/19 [==============================] - 7s 369ms/step - loss: 0.3297 - acc: 0.8632 - val_loss: 0.0258 - val_acc: 1.0000\n",
      "Epoch 6/15\n",
      "19/19 [==============================] - 7s 373ms/step - loss: 0.3469 - acc: 0.9158 - val_loss: 2.9298 - val_acc: 0.3662\n",
      "Epoch 7/15\n",
      "19/19 [==============================] - 7s 370ms/step - loss: 0.1382 - acc: 0.9579 - val_loss: 0.2969 - val_acc: 0.9296\n",
      "Epoch 8/15\n",
      "19/19 [==============================] - 7s 367ms/step - loss: 0.2921 - acc: 0.8842 - val_loss: 0.3012 - val_acc: 0.8060\n",
      "Epoch 9/15\n",
      "19/19 [==============================] - 7s 375ms/step - loss: 0.1120 - acc: 0.9579 - val_loss: 0.0013 - val_acc: 1.0000\n",
      "Epoch 10/15\n",
      "19/19 [==============================] - 7s 370ms/step - loss: 0.2406 - acc: 0.9158 - val_loss: 3.0263e-04 - val_acc: 1.0000\n",
      "Epoch 11/15\n",
      "19/19 [==============================] - 7s 366ms/step - loss: 0.3244 - acc: 0.8947 - val_loss: 0.9007 - val_acc: 0.8209\n",
      "Epoch 12/15\n",
      "19/19 [==============================] - 7s 371ms/step - loss: 0.1806 - acc: 0.9158 - val_loss: 0.0163 - val_acc: 1.0000\n",
      "Epoch 13/15\n",
      "19/19 [==============================] - 7s 373ms/step - loss: 0.2665 - acc: 0.8947 - val_loss: 0.0173 - val_acc: 1.0000\n",
      "Epoch 14/15\n",
      "19/19 [==============================] - 7s 372ms/step - loss: 0.1034 - acc: 0.9474 - val_loss: 4.8404 - val_acc: 0.2836\n",
      "Epoch 15/15\n",
      "19/19 [==============================] - 7s 370ms/step - loss: 0.3223 - acc: 0.8947 - val_loss: 1.0364 - val_acc: 0.8169\n"
     ]
    },
    {
     "data": {
      "text/plain": [
       "<keras.callbacks.History at 0x150e37db128>"
      ]
     },
     "execution_count": 95,
     "metadata": {},
     "output_type": "execute_result"
    }
   ],
   "source": [
    "model1.fit_generator(train_generator, validation_data=valid_generator, validation_steps=train_steps,\n",
    "                    steps_per_epoch=train_steps, epochs=15)"
   ]
  },
  {
   "cell_type": "code",
   "execution_count": 96,
   "metadata": {},
   "outputs": [
    {
     "data": {
      "text/html": [
       "<div>\n",
       "<style scoped>\n",
       "    .dataframe tbody tr th:only-of-type {\n",
       "        vertical-align: middle;\n",
       "    }\n",
       "\n",
       "    .dataframe tbody tr th {\n",
       "        vertical-align: top;\n",
       "    }\n",
       "\n",
       "    .dataframe thead th {\n",
       "        text-align: right;\n",
       "    }\n",
       "</style>\n",
       "<table border=\"1\" class=\"dataframe\">\n",
       "  <thead>\n",
       "    <tr style=\"text-align: right;\">\n",
       "      <th></th>\n",
       "      <th>filename</th>\n",
       "    </tr>\n",
       "  </thead>\n",
       "  <tbody>\n",
       "    <tr>\n",
       "      <th>0</th>\n",
       "      <td>dani_16.jpg</td>\n",
       "    </tr>\n",
       "    <tr>\n",
       "      <th>1</th>\n",
       "      <td>dani_30.jpg</td>\n",
       "    </tr>\n",
       "    <tr>\n",
       "      <th>2</th>\n",
       "      <td>dani_43.jpg</td>\n",
       "    </tr>\n",
       "    <tr>\n",
       "      <th>3</th>\n",
       "      <td>dani_45.jpg</td>\n",
       "    </tr>\n",
       "    <tr>\n",
       "      <th>4</th>\n",
       "      <td>dani_53.jpg</td>\n",
       "    </tr>\n",
       "    <tr>\n",
       "      <th>5</th>\n",
       "      <td>dani_55.jpg</td>\n",
       "    </tr>\n",
       "    <tr>\n",
       "      <th>6</th>\n",
       "      <td>unknown_102.jpg</td>\n",
       "    </tr>\n",
       "    <tr>\n",
       "      <th>7</th>\n",
       "      <td>unknown_67.jpg</td>\n",
       "    </tr>\n",
       "    <tr>\n",
       "      <th>8</th>\n",
       "      <td>unknown_73.jpg</td>\n",
       "    </tr>\n",
       "    <tr>\n",
       "      <th>9</th>\n",
       "      <td>unknown_85.jpg</td>\n",
       "    </tr>\n",
       "    <tr>\n",
       "      <th>10</th>\n",
       "      <td>unknown_89.jpg</td>\n",
       "    </tr>\n",
       "    <tr>\n",
       "      <th>11</th>\n",
       "      <td>unknown_94.jpg</td>\n",
       "    </tr>\n",
       "    <tr>\n",
       "      <th>12</th>\n",
       "      <td>vinodh_105.jpg</td>\n",
       "    </tr>\n",
       "    <tr>\n",
       "      <th>13</th>\n",
       "      <td>vinodh_111.jpg</td>\n",
       "    </tr>\n",
       "    <tr>\n",
       "      <th>14</th>\n",
       "      <td>vinodh_126.jpg</td>\n",
       "    </tr>\n",
       "  </tbody>\n",
       "</table>\n",
       "</div>"
      ],
      "text/plain": [
       "           filename\n",
       "0       dani_16.jpg\n",
       "1       dani_30.jpg\n",
       "2       dani_43.jpg\n",
       "3       dani_45.jpg\n",
       "4       dani_53.jpg\n",
       "5       dani_55.jpg\n",
       "6   unknown_102.jpg\n",
       "7    unknown_67.jpg\n",
       "8    unknown_73.jpg\n",
       "9    unknown_85.jpg\n",
       "10   unknown_89.jpg\n",
       "11   unknown_94.jpg\n",
       "12   vinodh_105.jpg\n",
       "13   vinodh_111.jpg\n",
       "14   vinodh_126.jpg"
      ]
     },
     "execution_count": 96,
     "metadata": {},
     "output_type": "execute_result"
    }
   ],
   "source": [
    "test_dir = os.listdir('test/')\n",
    "df_test = pd.DataFrame({'filename':test_dir})\n",
    "df_test"
   ]
  },
  {
   "cell_type": "markdown",
   "metadata": {},
   "source": [
    "### the test_step value should always be integer when total size is divide with batch size so adjust datasize\n",
    "### use same batch size as used before"
   ]
  },
  {
   "cell_type": "code",
   "execution_count": 97,
   "metadata": {},
   "outputs": [
    {
     "name": "stdout",
     "output_type": "stream",
     "text": [
      "Found 15 validated image filenames.\n"
     ]
    }
   ],
   "source": [
    "test_datagen = ImageDataGenerator(rescale=1/255)\n",
    "test_data_generator = test_datagen.flow_from_dataframe(df_test, 'test/', \n",
    "                                                      x_col='filename',\n",
    "                                                      y_col=None,\n",
    "                                                      class_mode=None,\n",
    "                                                      target_size=(128,128),\n",
    "                                                      batch_size=5, \n",
    "                                                      shuffle=False)"
   ]
  },
  {
   "cell_type": "code",
   "execution_count": 98,
   "metadata": {},
   "outputs": [],
   "source": [
    "test_step = 15/5"
   ]
  },
  {
   "cell_type": "code",
   "execution_count": 99,
   "metadata": {},
   "outputs": [],
   "source": [
    "pred = model1.predict_generator(test_data_generator, steps=test_step)"
   ]
  },
  {
   "cell_type": "code",
   "execution_count": 100,
   "metadata": {},
   "outputs": [
    {
     "data": {
      "text/html": [
       "<div>\n",
       "<style scoped>\n",
       "    .dataframe tbody tr th:only-of-type {\n",
       "        vertical-align: middle;\n",
       "    }\n",
       "\n",
       "    .dataframe tbody tr th {\n",
       "        vertical-align: top;\n",
       "    }\n",
       "\n",
       "    .dataframe thead th {\n",
       "        text-align: right;\n",
       "    }\n",
       "</style>\n",
       "<table border=\"1\" class=\"dataframe\">\n",
       "  <thead>\n",
       "    <tr style=\"text-align: right;\">\n",
       "      <th></th>\n",
       "      <th>filename</th>\n",
       "      <th>label</th>\n",
       "    </tr>\n",
       "  </thead>\n",
       "  <tbody>\n",
       "    <tr>\n",
       "      <th>0</th>\n",
       "      <td>dani_16.jpg</td>\n",
       "      <td>0</td>\n",
       "    </tr>\n",
       "    <tr>\n",
       "      <th>1</th>\n",
       "      <td>dani_30.jpg</td>\n",
       "      <td>0</td>\n",
       "    </tr>\n",
       "    <tr>\n",
       "      <th>2</th>\n",
       "      <td>dani_43.jpg</td>\n",
       "      <td>0</td>\n",
       "    </tr>\n",
       "    <tr>\n",
       "      <th>3</th>\n",
       "      <td>dani_45.jpg</td>\n",
       "      <td>0</td>\n",
       "    </tr>\n",
       "    <tr>\n",
       "      <th>4</th>\n",
       "      <td>dani_53.jpg</td>\n",
       "      <td>0</td>\n",
       "    </tr>\n",
       "    <tr>\n",
       "      <th>5</th>\n",
       "      <td>dani_55.jpg</td>\n",
       "      <td>0</td>\n",
       "    </tr>\n",
       "    <tr>\n",
       "      <th>6</th>\n",
       "      <td>unknown_102.jpg</td>\n",
       "      <td>1</td>\n",
       "    </tr>\n",
       "    <tr>\n",
       "      <th>7</th>\n",
       "      <td>unknown_67.jpg</td>\n",
       "      <td>1</td>\n",
       "    </tr>\n",
       "    <tr>\n",
       "      <th>8</th>\n",
       "      <td>unknown_73.jpg</td>\n",
       "      <td>1</td>\n",
       "    </tr>\n",
       "    <tr>\n",
       "      <th>9</th>\n",
       "      <td>unknown_85.jpg</td>\n",
       "      <td>1</td>\n",
       "    </tr>\n",
       "    <tr>\n",
       "      <th>10</th>\n",
       "      <td>unknown_89.jpg</td>\n",
       "      <td>1</td>\n",
       "    </tr>\n",
       "    <tr>\n",
       "      <th>11</th>\n",
       "      <td>unknown_94.jpg</td>\n",
       "      <td>1</td>\n",
       "    </tr>\n",
       "    <tr>\n",
       "      <th>12</th>\n",
       "      <td>vinodh_105.jpg</td>\n",
       "      <td>2</td>\n",
       "    </tr>\n",
       "    <tr>\n",
       "      <th>13</th>\n",
       "      <td>vinodh_111.jpg</td>\n",
       "      <td>2</td>\n",
       "    </tr>\n",
       "    <tr>\n",
       "      <th>14</th>\n",
       "      <td>vinodh_126.jpg</td>\n",
       "      <td>2</td>\n",
       "    </tr>\n",
       "  </tbody>\n",
       "</table>\n",
       "</div>"
      ],
      "text/plain": [
       "           filename  label\n",
       "0       dani_16.jpg      0\n",
       "1       dani_30.jpg      0\n",
       "2       dani_43.jpg      0\n",
       "3       dani_45.jpg      0\n",
       "4       dani_53.jpg      0\n",
       "5       dani_55.jpg      0\n",
       "6   unknown_102.jpg      1\n",
       "7    unknown_67.jpg      1\n",
       "8    unknown_73.jpg      1\n",
       "9    unknown_85.jpg      1\n",
       "10   unknown_89.jpg      1\n",
       "11   unknown_94.jpg      1\n",
       "12   vinodh_105.jpg      2\n",
       "13   vinodh_111.jpg      2\n",
       "14   vinodh_126.jpg      2"
      ]
     },
     "execution_count": 100,
     "metadata": {},
     "output_type": "execute_result"
    }
   ],
   "source": [
    "df_test['label'] = np.argmax(pred, axis=-1)\n",
    "df_test"
   ]
  },
  {
   "cell_type": "code",
   "execution_count": 101,
   "metadata": {},
   "outputs": [
    {
     "data": {
      "text/html": [
       "<div>\n",
       "<style scoped>\n",
       "    .dataframe tbody tr th:only-of-type {\n",
       "        vertical-align: middle;\n",
       "    }\n",
       "\n",
       "    .dataframe tbody tr th {\n",
       "        vertical-align: top;\n",
       "    }\n",
       "\n",
       "    .dataframe thead th {\n",
       "        text-align: right;\n",
       "    }\n",
       "</style>\n",
       "<table border=\"1\" class=\"dataframe\">\n",
       "  <thead>\n",
       "    <tr style=\"text-align: right;\">\n",
       "      <th></th>\n",
       "      <th>filename</th>\n",
       "      <th>label</th>\n",
       "      <th>actual</th>\n",
       "    </tr>\n",
       "  </thead>\n",
       "  <tbody>\n",
       "    <tr>\n",
       "      <th>0</th>\n",
       "      <td>dani_16.jpg</td>\n",
       "      <td>0</td>\n",
       "      <td>0</td>\n",
       "    </tr>\n",
       "    <tr>\n",
       "      <th>1</th>\n",
       "      <td>dani_30.jpg</td>\n",
       "      <td>0</td>\n",
       "      <td>0</td>\n",
       "    </tr>\n",
       "    <tr>\n",
       "      <th>2</th>\n",
       "      <td>dani_43.jpg</td>\n",
       "      <td>0</td>\n",
       "      <td>0</td>\n",
       "    </tr>\n",
       "    <tr>\n",
       "      <th>3</th>\n",
       "      <td>dani_45.jpg</td>\n",
       "      <td>0</td>\n",
       "      <td>0</td>\n",
       "    </tr>\n",
       "    <tr>\n",
       "      <th>4</th>\n",
       "      <td>dani_53.jpg</td>\n",
       "      <td>0</td>\n",
       "      <td>0</td>\n",
       "    </tr>\n",
       "    <tr>\n",
       "      <th>5</th>\n",
       "      <td>dani_55.jpg</td>\n",
       "      <td>0</td>\n",
       "      <td>0</td>\n",
       "    </tr>\n",
       "    <tr>\n",
       "      <th>6</th>\n",
       "      <td>unknown_102.jpg</td>\n",
       "      <td>1</td>\n",
       "      <td>1</td>\n",
       "    </tr>\n",
       "    <tr>\n",
       "      <th>7</th>\n",
       "      <td>unknown_67.jpg</td>\n",
       "      <td>1</td>\n",
       "      <td>1</td>\n",
       "    </tr>\n",
       "    <tr>\n",
       "      <th>8</th>\n",
       "      <td>unknown_73.jpg</td>\n",
       "      <td>1</td>\n",
       "      <td>1</td>\n",
       "    </tr>\n",
       "    <tr>\n",
       "      <th>9</th>\n",
       "      <td>unknown_85.jpg</td>\n",
       "      <td>1</td>\n",
       "      <td>1</td>\n",
       "    </tr>\n",
       "    <tr>\n",
       "      <th>10</th>\n",
       "      <td>unknown_89.jpg</td>\n",
       "      <td>1</td>\n",
       "      <td>1</td>\n",
       "    </tr>\n",
       "    <tr>\n",
       "      <th>11</th>\n",
       "      <td>unknown_94.jpg</td>\n",
       "      <td>1</td>\n",
       "      <td>1</td>\n",
       "    </tr>\n",
       "    <tr>\n",
       "      <th>12</th>\n",
       "      <td>vinodh_105.jpg</td>\n",
       "      <td>2</td>\n",
       "      <td>2</td>\n",
       "    </tr>\n",
       "    <tr>\n",
       "      <th>13</th>\n",
       "      <td>vinodh_111.jpg</td>\n",
       "      <td>2</td>\n",
       "      <td>2</td>\n",
       "    </tr>\n",
       "    <tr>\n",
       "      <th>14</th>\n",
       "      <td>vinodh_126.jpg</td>\n",
       "      <td>2</td>\n",
       "      <td>2</td>\n",
       "    </tr>\n",
       "  </tbody>\n",
       "</table>\n",
       "</div>"
      ],
      "text/plain": [
       "           filename  label  actual\n",
       "0       dani_16.jpg      0       0\n",
       "1       dani_30.jpg      0       0\n",
       "2       dani_43.jpg      0       0\n",
       "3       dani_45.jpg      0       0\n",
       "4       dani_53.jpg      0       0\n",
       "5       dani_55.jpg      0       0\n",
       "6   unknown_102.jpg      1       1\n",
       "7    unknown_67.jpg      1       1\n",
       "8    unknown_73.jpg      1       1\n",
       "9    unknown_85.jpg      1       1\n",
       "10   unknown_89.jpg      1       1\n",
       "11   unknown_94.jpg      1       1\n",
       "12   vinodh_105.jpg      2       2\n",
       "13   vinodh_111.jpg      2       2\n",
       "14   vinodh_126.jpg      2       2"
      ]
     },
     "execution_count": 101,
     "metadata": {},
     "output_type": "execute_result"
    }
   ],
   "source": [
    "from sklearn.preprocessing import LabelEncoder\n",
    "la = LabelEncoder()\n",
    "df_test['actual'] = df_test.filename.apply(lambda x: re.split('[_.]', x)[0])\n",
    "df_test['actual'] = la.fit_transform(df_test.actual)\n",
    "df_test"
   ]
  },
  {
   "cell_type": "code",
   "execution_count": 107,
   "metadata": {},
   "outputs": [],
   "source": [
    "import time\n",
    "import datetime"
   ]
  },
  {
   "cell_type": "code",
   "execution_count": 105,
   "metadata": {},
   "outputs": [
    {
     "name": "stdout",
     "output_type": "stream",
     "text": [
      "{'vinodh', 'unknown', 'dani'}\n"
     ]
    }
   ],
   "source": [
    "names_captured = []\n",
    "video_capture = cv2.VideoCapture(0)\n",
    "time.sleep(5.5)\n",
    "\n",
    "font = cv2.FONT_HERSHEY_SIMPLEX\n",
    "while True:\n",
    "    # Capture frame-by-frame\n",
    "    ret, frame = video_capture.read()\n",
    "    gray = cv2.cvtColor(frame, cv2.COLOR_BGR2GRAY)\n",
    "#     frame = cv2.flip(frame,1)\n",
    "    \n",
    "    faces = face_cascade.detectMultiScale(\n",
    "        gray,\n",
    "        scaleFactor=1.1,\n",
    "        minNeighbors=5,\n",
    "        minSize=(30, 30),\n",
    "        flags=cv2.CASCADE_SCALE_IMAGE\n",
    "        )\n",
    "#     if len(faces)!=0:\n",
    "#         print(faces)\n",
    "    for (x, y, w, h) in faces:\n",
    "        if w > 120 :\n",
    "            cv2.rectangle(frame, (x, y), (x+w, y+h), (255, 0, 0), 3)\n",
    "#             roi_gray = gray[y:y+h, x:x+w]\n",
    "            roi_color = frame[y:y+h, x:x+w]\n",
    "            roi_color = roi_color/255\n",
    "            roi_color = cv2.resize(roi_color, (128,128))\n",
    "            roi_color = np.reshape(roi_color, (1,128,128,3))\n",
    "            title = name_list[np.argmax(model1.predict(roi_color))]\n",
    "            names_captured.append(title)\n",
    "            cv2.putText(frame,f'Face DETECTED: {title}',(50, 40), font, 1,(255,0,0),2)\n",
    "    \n",
    "#     flip = cv2.flip(frame,1)\n",
    "    \n",
    "#     cv2.imshow('frame', flip)\n",
    "          \n",
    "    # Display the resulting frame\n",
    "    cv2.imshow('Video', frame)\n",
    "    \n",
    "    if cv2.waitKey(1) & 0xFF == ord('q'):\n",
    "        break\n",
    "video_capture.release()\n",
    "cv2.destroyAllWindows()\n",
    "names_captured = set(names_captured)\n",
    "print(names_captured)"
   ]
  },
  {
   "cell_type": "code",
   "execution_count": 110,
   "metadata": {},
   "outputs": [],
   "source": [
    "csv_dict = {'NAME': [], \"TIME\": [], \"DATE\": [], 'STATUS': []}\n",
    "dd = datetime.datetime.now()\n",
    "time = f'{dd.hour}:{dd.minute}:{dd.second}'\n",
    "date = f'{dd.year}/{dd.month}/{dd.day}'\n",
    "for i in name_list:\n",
    "    if i in name_list:\n",
    "        csv_dict['NAME'].append(i)\n",
    "        csv_dict['TIME'].append(time)\n",
    "        csv_dict['DATE'].append(date)\n",
    "        csv_dict['STATUS'].append('PRESENT')\n",
    "    else:\n",
    "        csv_dict['NAME'].append(i)\n",
    "        csv_dict['TIME'].append(time)\n",
    "        csv_dict['DATE'].append(date)\n",
    "        csv_dict['STATUS'].append('ABSENT')"
   ]
  },
  {
   "cell_type": "code",
   "execution_count": 111,
   "metadata": {},
   "outputs": [
    {
     "data": {
      "text/html": [
       "<div>\n",
       "<style scoped>\n",
       "    .dataframe tbody tr th:only-of-type {\n",
       "        vertical-align: middle;\n",
       "    }\n",
       "\n",
       "    .dataframe tbody tr th {\n",
       "        vertical-align: top;\n",
       "    }\n",
       "\n",
       "    .dataframe thead th {\n",
       "        text-align: right;\n",
       "    }\n",
       "</style>\n",
       "<table border=\"1\" class=\"dataframe\">\n",
       "  <thead>\n",
       "    <tr style=\"text-align: right;\">\n",
       "      <th></th>\n",
       "      <th>NAME</th>\n",
       "      <th>TIME</th>\n",
       "      <th>DATE</th>\n",
       "      <th>STATUS</th>\n",
       "    </tr>\n",
       "  </thead>\n",
       "  <tbody>\n",
       "    <tr>\n",
       "      <th>0</th>\n",
       "      <td>dani</td>\n",
       "      <td>0:53:35</td>\n",
       "      <td>2020/1/31</td>\n",
       "      <td>PRESENT</td>\n",
       "    </tr>\n",
       "    <tr>\n",
       "      <th>1</th>\n",
       "      <td>unknown</td>\n",
       "      <td>0:53:35</td>\n",
       "      <td>2020/1/31</td>\n",
       "      <td>PRESENT</td>\n",
       "    </tr>\n",
       "    <tr>\n",
       "      <th>2</th>\n",
       "      <td>vinodh</td>\n",
       "      <td>0:53:35</td>\n",
       "      <td>2020/1/31</td>\n",
       "      <td>PRESENT</td>\n",
       "    </tr>\n",
       "  </tbody>\n",
       "</table>\n",
       "</div>"
      ],
      "text/plain": [
       "      NAME     TIME       DATE   STATUS\n",
       "0     dani  0:53:35  2020/1/31  PRESENT\n",
       "1  unknown  0:53:35  2020/1/31  PRESENT\n",
       "2   vinodh  0:53:35  2020/1/31  PRESENT"
      ]
     },
     "execution_count": 111,
     "metadata": {},
     "output_type": "execute_result"
    }
   ],
   "source": [
    "df_csv = pd.DataFrame(csv_dict)\n",
    "df_csv"
   ]
  },
  {
   "cell_type": "code",
   "execution_count": 113,
   "metadata": {},
   "outputs": [],
   "source": [
    "df_csv.to_csv(f'outputcsv/{dd.year}_{dd.month}_{dd.day}_{dd.hour}_{dd.minute}_{dd.second}', index=False)"
   ]
  },
  {
   "cell_type": "markdown",
   "metadata": {},
   "source": [
    "## project by DANI"
   ]
  }
 ],
 "metadata": {
  "kernelspec": {
   "display_name": "Python 3",
   "language": "python",
   "name": "python3"
  },
  "language_info": {
   "codemirror_mode": {
    "name": "ipython",
    "version": 3
   },
   "file_extension": ".py",
   "mimetype": "text/x-python",
   "name": "python",
   "nbconvert_exporter": "python",
   "pygments_lexer": "ipython3",
   "version": "3.7.3"
  }
 },
 "nbformat": 4,
 "nbformat_minor": 2
}
